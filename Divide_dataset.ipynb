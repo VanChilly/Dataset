{
 "cells": [
  {
   "cell_type": "code",
   "execution_count": 1,
   "metadata": {
    "ExecuteTime": {
     "end_time": "2020-11-03T10:48:34.295621Z",
     "start_time": "2020-11-03T10:48:34.292148Z"
    }
   },
   "outputs": [],
   "source": [
    "import os\n",
    "import shutil"
   ]
  },
  {
   "cell_type": "code",
   "execution_count": 2,
   "metadata": {
    "ExecuteTime": {
     "end_time": "2020-11-03T10:48:34.957284Z",
     "start_time": "2020-11-03T10:48:34.949348Z"
    }
   },
   "outputs": [],
   "source": [
    "# 删除xml文件里指定行\n",
    "\n",
    "def delete_row(xml_test):\n",
    "#     xml_test = 'F:/pascal_voc_test/VOCdevkit/VOC2007/Annotations/test.xml'\n",
    "    xml_new = 'F:/pascal_voc_test/VOCdevkit/VOC2007/Annotations/test_new.xml'\n",
    "    count = -1\n",
    "    count_set = []\n",
    "    with open(xml_test,'r') as f1:\n",
    "        content = f1.readlines()\n",
    "        for con in content:\n",
    "            count += 1\n",
    "            if 'tvmonitor' in con:\n",
    "                count_set.append(count-1)# 找到tvmonitor对应的object\n",
    "                \n",
    "    with open(xml_new,'w') as f2: # 重写文件，删除所有包含tvmonitor的object\n",
    "        new_content = []\n",
    "        l,pos = 12,0\n",
    "        for start in count_set:\n",
    "            new_content += content[pos:start]\n",
    "            pos = start + l\n",
    "        new_content += content[pos:]\n",
    "        for line in new_content:\n",
    "            f2.write(line)\n",
    "    shutil.move(xml_new, xml_test)        "
   ]
  },
  {
   "cell_type": "code",
   "execution_count": 3,
   "metadata": {
    "ExecuteTime": {
     "end_time": "2020-11-03T10:48:36.007316Z",
     "start_time": "2020-11-03T10:48:36.002356Z"
    }
   },
   "outputs": [],
   "source": [
    "def delete_img(only_tm_name_set):\n",
    "    source_path = 'F:/pascal_voc_test/VOCdevkit/VOC2007/JPEGImages/'\n",
    "    target_path = 'F:/pascal_voc_test/VOCdevkit/VOC2007/JPEGImages_tm/'\n",
    "    for i in range(len(only_tm_name_set)):\n",
    "        source_imgfile = source_path + only_tm_name_set[i] + '.jpg'\n",
    "        target_imgfile = target_path + only_tm_name_set[i] + '.jpg'\n",
    "        shutil.move(source_imgfile,target_imgfile)"
   ]
  },
  {
   "cell_type": "code",
   "execution_count": 4,
   "metadata": {
    "ExecuteTime": {
     "end_time": "2020-11-03T10:48:36.884739Z",
     "start_time": "2020-11-03T10:48:36.879311Z"
    }
   },
   "outputs": [],
   "source": [
    "# 复制共有的img\n",
    "def copy_img(all_minus_tm):\n",
    "    source_path = 'F:/pascal_voc_test/VOCdevkit/VOC2007/JPEGImages/'\n",
    "    target_path = 'F:/pascal_voc_test/VOCdevkit/VOC2007/JPEGImages_tm/'\n",
    "    for i in range(len(all_minus_tm)):\n",
    "        source_imgfile = source_path + all_minus_tm[i] + '.jpg'\n",
    "        target_imgfile = target_path + all_minus_tm[i] + '.jpg'\n",
    "        shutil.copy(source_imgfile,target_imgfile)"
   ]
  },
  {
   "cell_type": "code",
   "execution_count": 5,
   "metadata": {
    "ExecuteTime": {
     "end_time": "2020-11-03T10:48:37.344035Z",
     "start_time": "2020-11-03T10:48:37.338579Z"
    }
   },
   "outputs": [],
   "source": [
    "def delete_xml(only_tm_name_set):\n",
    "    source_path = 'F:/pascal_voc_test/VOCdevkit/VOC2007/Annotations/'\n",
    "    target_path = 'F:/pascal_voc_test/VOCdevkit/VOC2007/Annotations_tm/'\n",
    "    for i in range(len(only_tm_name_set)):\n",
    "        source_xmlfile = source_path + only_tm_name_set[i] + '.xml'\n",
    "        target_xmlfile = target_path + only_tm_name_set[i] + '.xml'\n",
    "        shutil.move(source_xmlfile,target_xmlfile)"
   ]
  },
  {
   "cell_type": "code",
   "execution_count": 6,
   "metadata": {
    "ExecuteTime": {
     "end_time": "2020-11-03T10:48:37.847475Z",
     "start_time": "2020-11-03T10:48:37.842516Z"
    }
   },
   "outputs": [],
   "source": [
    "# 复制共有的xml\n",
    "def copy_xml(all_minus_tm):\n",
    "    source_path = 'F:/pascal_voc_test/VOCdevkit/VOC2007/Annotations/'\n",
    "    target_path = 'F:/pascal_voc_test/VOCdevkit/VOC2007/Annotations_tm/'\n",
    "    for i in range(len(all_minus_tm)):\n",
    "        source_xmlfile = source_path + all_minus_tm[i] + '.xml'\n",
    "        target_xmlfile = target_path + all_minus_tm[i] + '.xml'\n",
    "        shutil.copy(source_xmlfile,target_xmlfile)"
   ]
  },
  {
   "cell_type": "code",
   "execution_count": 7,
   "metadata": {
    "ExecuteTime": {
     "end_time": "2020-11-03T10:48:38.597427Z",
     "start_time": "2020-11-03T10:48:38.585039Z"
    }
   },
   "outputs": [],
   "source": [
    "# 从不止含有tvmonitor的xml删除其他类object\n",
    "\n",
    "def delete_from_tm_xml(xml_test):\n",
    "    \n",
    "    xml_new = 'F:/pascal_voc_test/VOCdevkit/VOC2007/Annotations_tm/test1_new.xml'\n",
    "    count = -1\n",
    "    count_set = []\n",
    "    with open(xml_test,'r') as f1:\n",
    "        content = f1.readlines()\n",
    "        for con in content:\n",
    "            count += 1\n",
    "            for item in person:\n",
    "                if '<name>' + item + '</name>' in con:\n",
    "                    count_set.append(count-1)# 找到其他类对应的object\n",
    "\n",
    "    with open(xml_new,'w') as f2: # 重写文件，删除所有包含其他类的object\n",
    "        new_content = []\n",
    "        l,pos = 9,0\n",
    "        for start in count_set:\n",
    "            new_content += content[pos:start]\n",
    "            pos = start + l\n",
    "        new_content += content[pos:]\n",
    "        for line in new_content:\n",
    "            f2.write(line)\n",
    "\n",
    "    shutil.move(xml_new,xml_test)\n",
    "\n",
    "    count = -1\n",
    "    count_set = []\n",
    "    with open(xml_test,'r') as f1:\n",
    "        content = f1.readlines()\n",
    "        for con in content:\n",
    "            count += 1\n",
    "            for item in classes:\n",
    "                if '<name>' + item + '</name>' in con:\n",
    "                    count_set.append(count-1)# 找到其他类对应的object\n",
    "\n",
    "    with open(xml_new,'w') as f2: # 重写文件，删除所有包含其他类的object\n",
    "        new_content = []\n",
    "        l,pos = 12,0\n",
    "        for start in count_set:\n",
    "            new_content += content[pos:start]\n",
    "            pos = start + l\n",
    "        new_content += content[pos:]\n",
    "        for line in new_content:\n",
    "            f2.write(line)\n",
    "\n",
    "    shutil.move(xml_new,xml_test)"
   ]
  },
  {
   "cell_type": "code",
   "execution_count": 8,
   "metadata": {
    "ExecuteTime": {
     "end_time": "2020-11-03T10:48:41.373538Z",
     "start_time": "2020-11-03T10:48:41.361139Z"
    }
   },
   "outputs": [
    {
     "name": "stdout",
     "output_type": "stream",
     "text": [
      "229 ['000045', '000059', '000185', '000204', '000227', '000265', '000291', '000397', '000414', '000421', '000571', '000659', '000758', '000790', '000813', '000956', '000961', '000974', '000994', '001007', '001029', '001039', '001081', '001138', '001338', '001363', '001367', '001392', '001500', '001513', '001546', '001549', '001551', '001572', '001695', '001704', '001742', '001813', '001824', '001871', '001905', '001961', '002062', '002073', '002074', '002081', '002093', '002119', '002227', '002252', '002258', '002282', '002356', '002394', '002430', '002469', '002503', '002601', '002608', '002638', '002792', '002809', '002850', '002902', '002905', '002951', '002985', '002997', '003113', '003136', '003158', '003248', '003291', '003314', '003322', '003389', '003463', '003507', '003558', '003590', '003686', '003716', '003757', '003776', '003801', '003909', '003934', '003981', '004024', '004040', '004053', '004064', '004179', '004222', '004252', '004260', '004308', '004342', '004418', '004664', '004716', '004717', '004781', '005059', '005178', '005187', '005235', '005250', '005255', '005313', '005375', '005411', '005545', '005565', '005587', '005589', '005753', '005754', '005807', '005808', '005823', '005827', '005834', '005898', '005902', '005935', '005946', '005997', '006040', '006068', '006075', '006116', '006144', '006293', '006307', '006308', '006313', '006345', '006384', '006389', '006435', '006446', '006452', '006574', '006624', '006630', '006633', '006646', '006688', '006742', '006743', '006771', '006774', '006798', '006817', '006984', '007110', '007178', '007196', '007203', '007321', '007332', '007333', '007348', '007401', '007564', '007583', '007747', '007808', '007835', '007842', '007849', '007982', '008047', '008050', '008179', '008274', '008277', '008288', '008291', '008347', '008404', '008405', '008407', '008428', '008451', '008471', '008486', '008525', '008561', '008563', '008611', '008659', '008660', '008675', '008686', '008707', '008851', '008887', '008897', '008947', '008949', '008954', '008991', '009097', '009165', '009216', '009217', '009226', '009274', '009310', '009319', '009357', '009379', '009397', '009404', '009474', '009511', '009521', '009554', '009561', '009594', '009631', '009689', '009795', '009837', '009840', '009888', '009906']\n"
     ]
    }
   ],
   "source": [
    "# 1\n",
    "# 获得tvmonitor类的文件\n",
    "\n",
    "classes = ['aeroplane', 'bicycle', 'bird', 'boat',\n",
    "           'bottle', 'bus', 'car', 'cat', 'chair',\n",
    "           'cow', 'diningtable', 'dog', 'horse',\n",
    "           'motorbike', 'person', 'pottedplant',\n",
    "           'sheep', 'sofa', 'train']\n",
    "person = ['head','hand','foot']\n",
    "tv_file = 'F:/pascal_voc_test/VOCdevkit/VOC2007/ImageSets/Main/tvmonitor_test.txt'\n",
    "xml_path = 'F:/pascal_voc_test/VOCdevkit/VOC2007/Annotations/'\n",
    "name_set = []\n",
    "label_set = []\n",
    "xml_file_set = []\n",
    "\n",
    "with open(tv_file, 'r') as f:\n",
    "\n",
    "    for data in f.readlines():\n",
    "        \n",
    "        name = data[:6]\n",
    "        label = data[7:9]\n",
    "        \n",
    "        if label[0] == ' ':\n",
    "            label = label[1]\n",
    "        if label == '1':\n",
    "            name_set.append(name) \n",
    "    print(len(name_set),name_set)\n",
    "\n"
   ]
  },
  {
   "cell_type": "code",
   "execution_count": 9,
   "metadata": {
    "ExecuteTime": {
     "end_time": "2020-11-03T10:48:58.067899Z",
     "start_time": "2020-11-03T10:48:45.124296Z"
    }
   },
   "outputs": [
    {
     "name": "stdout",
     "output_type": "stream",
     "text": [
      "229 80 ['000045', '000204', '000571', '000790', '000813', '001007', '001029', '001367', '001500', '001546', '001695', '001704', '001813', '001871', '002073', '002093', '002258', '002282', '002356', '002601', '002608', '002902', '002985', '002997', '003136', '003158', '003248', '003291', '003389', '003463', '003507', '003686', '003716', '003757', '003801', '003909', '004024', '004664', '005059', '005178', '005235', '005565', '005587', '005807', '005834', '005902', '005946', '006075', '006116', '006345', '006389', '007196', '007842', '007982', '008179', '008274', '008291', '008404', '008428', '008561', '008611', '008659', '008660', '008675', '008707', '008851', '008949', '009097', '009217', '009226', '009319', '009357', '009379', '009404', '009474', '009594', '009795', '009837', '009888', '009906']\n"
     ]
    }
   ],
   "source": [
    "# 2\n",
    "# 包含tvmonitor类的数量\n",
    "num = len(name_set)\n",
    "only_tm_set = [] # 只含有tvmonitor的xml\n",
    "only_tm_name_set = [] # 只含有tvmonitor的编号\n",
    "\n",
    "for i in range(num):\n",
    "    xml_file = xml_path + name_set[i] + '.xml'\n",
    "    xml_file_set.append(xml_file)\n",
    "    delete_row(xml_file)    \n",
    "    # 获得只包含tvmonitor的xml文件集合only_tm_set\n",
    "    flag = 1 # 0表示还有其他类，1表示只有tvmonitor\n",
    "    with open(xml_file_set[i],'r') as f:\n",
    "        lines = f.readlines()\n",
    "        for item in classes:\n",
    "            for line in lines:\n",
    "                if '<name>' + item + '</name>'  in line:\n",
    "                    flag = 0\n",
    "                    break\n",
    "    if flag == 1:\n",
    "        only_tm_set.append(xml_file_set[i])\n",
    "        only_tm_name_set.append(name_set[i])\n",
    "print(num,len(only_tm_set),only_tm_name_set)\n",
    "\n",
    "# 删除tvmonitor图片\n",
    "delete_img(only_tm_name_set)\n",
    "delete_xml(only_tm_name_set)\n"
   ]
  },
  {
   "cell_type": "code",
   "execution_count": 10,
   "metadata": {
    "ExecuteTime": {
     "end_time": "2020-11-03T10:49:06.478569Z",
     "start_time": "2020-11-03T10:49:06.017288Z"
    }
   },
   "outputs": [
    {
     "name": "stdout",
     "output_type": "stream",
     "text": [
      "['000059', '000185', '000227', '000265', '000291', '000397', '000414', '000421', '000659', '000758', '000956', '000961', '000974', '000994', '001039', '001081', '001138', '001338', '001363', '001392', '001513', '001549', '001551', '001572', '001742', '001824', '001905', '001961', '002062', '002074', '002081', '002119', '002227', '002252', '002394', '002430', '002469', '002503', '002638', '002792', '002809', '002850', '002905', '002951', '003113', '003314', '003322', '003558', '003590', '003776', '003934', '003981', '004040', '004053', '004064', '004179', '004222', '004252', '004260', '004308', '004342', '004418', '004716', '004717', '004781', '005187', '005250', '005255', '005313', '005375', '005411', '005545', '005589', '005753', '005754', '005808', '005823', '005827', '005898', '005935', '005997', '006040', '006068', '006144', '006293', '006307', '006308', '006313', '006384', '006435', '006446', '006452', '006574', '006624', '006630', '006633', '006646', '006688', '006742', '006743', '006771', '006774', '006798', '006817', '006984', '007110', '007178', '007203', '007321', '007332', '007333', '007348', '007401', '007564', '007583', '007747', '007808', '007835', '007849', '008047', '008050', '008277', '008288', '008347', '008405', '008407', '008451', '008471', '008486', '008525', '008563', '008686', '008887', '008897', '008947', '008954', '008991', '009165', '009216', '009274', '009310', '009397', '009511', '009521', '009554', '009561', '009631', '009689', '009840']\n"
     ]
    }
   ],
   "source": [
    "# 3\n",
    "# 将至少有tvmonitor类的文件复制\n",
    "\n",
    "all_minus_tm = [i for i in name_set if i not in only_tm_name_set]\n",
    "print(all_minus_tm)\n",
    "copy_img(all_minus_tm)"
   ]
  },
  {
   "cell_type": "code",
   "execution_count": 11,
   "metadata": {
    "ExecuteTime": {
     "end_time": "2020-11-03T10:49:09.563687Z",
     "start_time": "2020-11-03T10:49:09.176806Z"
    }
   },
   "outputs": [],
   "source": [
    "# 4\n",
    "copy_xml(all_minus_tm)"
   ]
  },
  {
   "cell_type": "code",
   "execution_count": 12,
   "metadata": {
    "ExecuteTime": {
     "end_time": "2020-11-03T10:49:10.483766Z",
     "start_time": "2020-11-03T10:49:10.293303Z"
    }
   },
   "outputs": [],
   "source": [
    "# 5\n",
    "# 恢复object内容（only_tm_name_set）\n",
    "\n",
    "source_path = 'F:/pascal_voc_test/VOCdevkit/Annotations/'\n",
    "target_path = 'F:/pascal_voc_test/VOCdevkit/VOC2007/Annotations_tm/'\n",
    "for i in range(len(only_tm_name_set)):\n",
    "        source_xmlfile = source_path + only_tm_name_set[i] + '.xml'\n",
    "        target_xmlfile = target_path + only_tm_name_set[i] + '.xml'\n",
    "        shutil.copy(source_xmlfile,target_xmlfile)"
   ]
  },
  {
   "cell_type": "code",
   "execution_count": 13,
   "metadata": {
    "ExecuteTime": {
     "end_time": "2020-11-03T10:49:11.607701Z",
     "start_time": "2020-11-03T10:49:11.325975Z"
    }
   },
   "outputs": [],
   "source": [
    "# 6\n",
    "# 恢复object内容(all_minus_tm)\n",
    "\n",
    "source_path = 'F:/pascal_voc_test/VOCdevkit/Annotations/'\n",
    "target_path = 'F:/pascal_voc_test/VOCdevkit/VOC2007/Annotations_tm/'\n",
    "for i in range(len(all_minus_tm)):\n",
    "        source_xmlfile = source_path + all_minus_tm[i] + '.xml'\n",
    "        target_xmlfile = target_path + all_minus_tm[i] + '.xml'\n",
    "        shutil.copy(source_xmlfile,target_xmlfile)"
   ]
  },
  {
   "cell_type": "code",
   "execution_count": 14,
   "metadata": {
    "ExecuteTime": {
     "end_time": "2020-11-03T10:49:17.431235Z",
     "start_time": "2020-11-03T10:49:12.292678Z"
    }
   },
   "outputs": [],
   "source": [
    "# 7\n",
    "# 删除其他类object\n",
    "for i in range(len(all_minus_tm)):\n",
    "    xml_tm_path = 'F:/pascal_voc_test/VOCdevkit/VOC2007/Annotations_tm/'\n",
    "    xml_test = xml_tm_path + all_minus_tm[i] + '.xml'\n",
    "    delete_from_tm_xml(xml_test)"
   ]
  },
  {
   "cell_type": "code",
   "execution_count": 51,
   "metadata": {
    "ExecuteTime": {
     "end_time": "2020-11-03T02:19:03.914837Z",
     "start_time": "2020-11-03T02:19:03.696600Z"
    }
   },
   "outputs": [
    {
     "data": {
      "text/plain": [
       "'F:/pascal_voc_test/VOCdevkit/VOC2007/ImageSets/Main/test.txt'"
      ]
     },
     "execution_count": 51,
     "metadata": {},
     "output_type": "execute_result"
    }
   ],
   "source": [
    "# 处理tvmonitor test.txt\n",
    "file_path = 'F:/pascal_voc_test/VOCdevkit/VOC2007/ImageSets/Main/test.txt'\n",
    "file_new = 'F:/pascal_voc_test/VOCdevkit/VOC2007/ImageSets/Main/test_new.txt'\n",
    "with open(file_path,'r') as f1:\n",
    "    lines = f1.readlines()\n",
    "with open(file_new,'w') as f2:\n",
    "    for line in lines:\n",
    "        for item in name_set:\n",
    "            if item in line:\n",
    "                f2.write(line)\n",
    "\n",
    "shutil.move(file_new,file_path)"
   ]
  },
  {
   "cell_type": "code",
   "execution_count": 62,
   "metadata": {
    "ExecuteTime": {
     "end_time": "2020-11-03T02:48:43.977598Z",
     "start_time": "2020-11-03T02:48:43.882862Z"
    }
   },
   "outputs": [
    {
     "data": {
      "text/plain": [
       "'F:/pascal_voc_test/VOCdevkit/VOC2007/ImageSets/Main/test.txt'"
      ]
     },
     "execution_count": 62,
     "metadata": {},
     "output_type": "execute_result"
    }
   ],
   "source": [
    "# 处理19 test.txt\n",
    "file_path = 'F:/pascal_voc_test/VOCdevkit/VOC2007/ImageSets/Main/test.txt'\n",
    "file_new = 'F:/pascal_voc_test/VOCdevkit/VOC2007/ImageSets/Main/test_new.txt'\n",
    "\n",
    "with open(file_path,'r') as f1:\n",
    "    lines = f1.readlines()\n",
    "with open(file_new,'w') as f2:\n",
    "    for line in lines:\n",
    "        flag = 0\n",
    "        for item in only_tm_name_set:\n",
    "            if item in line:\n",
    "                flag = 1\n",
    "        if flag == 0:\n",
    "            f2.write(line)\n",
    "            \n",
    "shutil.move(file_new,file_path)"
   ]
  },
  {
   "cell_type": "code",
   "execution_count": 24,
   "metadata": {
    "ExecuteTime": {
     "end_time": "2020-11-03T01:51:22.825609Z",
     "start_time": "2020-11-03T01:51:22.794858Z"
    }
   },
   "outputs": [
    {
     "data": {
      "text/plain": [
       "'F:/pascal_voc_test/VOCdevkit/VOC2007/test.xml'"
      ]
     },
     "execution_count": 24,
     "metadata": {},
     "output_type": "execute_result"
    }
   ],
   "source": [
    "# 单个文件测试删除person中的head,hand,foot part\n",
    "# file_path = 'F:/pascal_voc_test/VOCdevkit/VOC2007/test.xml'\n",
    "# file_new_path = 'F:/pascal_voc_test/VOCdevkit/VOC2007/test_new.xml'\n",
    "# count = -1\n",
    "# count_set = []\n",
    "# with open(file_path,'r') as f1:\n",
    "#     content = f1.readlines()\n",
    "#     for con in content:\n",
    "#         count += 1\n",
    "#         for item in person:\n",
    "#             if '<name>' + item + '</name>' in con:\n",
    "#                 count_set.append(count-1)# 找到其他类对应的object\n",
    "              \n",
    "# with open(file_new_path,'w') as f2: # 重写文件，删除所有包含其他类的object\n",
    "#     new_content = []\n",
    "#     l,pos = 9,0\n",
    "#     for start in count_set:\n",
    "#         new_content += content[pos:start]\n",
    "#         pos = start + l\n",
    "#     new_content += content[pos:]\n",
    "#     for line in new_content:\n",
    "#         f2.write(line)\n",
    "        \n",
    "# shutil.move(file_new_path,file_path)\n",
    "\n",
    "# count = -1\n",
    "# count_set = []\n",
    "# with open(file_path,'r') as f1:\n",
    "#     content = f1.readlines()\n",
    "#     for con in content:\n",
    "#         count += 1\n",
    "#         for item in classes:\n",
    "#             if '<name>' + item + '</name>' in con:\n",
    "#                 count_set.append(count-1)# 找到其他类对应的object\n",
    "              \n",
    "# with open(file_new_path,'w') as f2: # 重写文件，删除所有包含其他类的object\n",
    "#     new_content = []\n",
    "#     l,pos = 12,0\n",
    "#     for start in count_set:\n",
    "#         new_content += content[pos:start]\n",
    "#         pos = start + l\n",
    "#     new_content += content[pos:]\n",
    "#     for line in new_content:\n",
    "#         f2.write(line)\n",
    "        \n",
    "# shutil.move(file_new_path,file_path)"
   ]
  },
  {
   "cell_type": "code",
   "execution_count": 20,
   "metadata": {
    "ExecuteTime": {
     "end_time": "2020-10-30T15:34:07.721623Z",
     "start_time": "2020-10-30T15:34:05.471855Z"
    }
   },
   "outputs": [
    {
     "name": "stdout",
     "output_type": "stream",
     "text": [
      "F:/pascal_voc_test/VOCdevkit/VOC2007/ImageSets/Main/aeroplane_test.txt\n",
      "F:/pascal_voc_test/VOCdevkit/VOC2007/ImageSets/Main/bicycle_test.txt\n",
      "F:/pascal_voc_test/VOCdevkit/VOC2007/ImageSets/Main/bird_test.txt\n",
      "F:/pascal_voc_test/VOCdevkit/VOC2007/ImageSets/Main/boat_test.txt\n",
      "F:/pascal_voc_test/VOCdevkit/VOC2007/ImageSets/Main/bottle_test.txt\n",
      "F:/pascal_voc_test/VOCdevkit/VOC2007/ImageSets/Main/bus_test.txt\n",
      "F:/pascal_voc_test/VOCdevkit/VOC2007/ImageSets/Main/car_test.txt\n",
      "F:/pascal_voc_test/VOCdevkit/VOC2007/ImageSets/Main/cat_test.txt\n",
      "F:/pascal_voc_test/VOCdevkit/VOC2007/ImageSets/Main/chair_test.txt\n",
      "F:/pascal_voc_test/VOCdevkit/VOC2007/ImageSets/Main/cow_test.txt\n",
      "F:/pascal_voc_test/VOCdevkit/VOC2007/ImageSets/Main/diningtable_test.txt\n",
      "F:/pascal_voc_test/VOCdevkit/VOC2007/ImageSets/Main/dog_test.txt\n",
      "F:/pascal_voc_test/VOCdevkit/VOC2007/ImageSets/Main/horse_test.txt\n",
      "F:/pascal_voc_test/VOCdevkit/VOC2007/ImageSets/Main/motorbike_test.txt\n",
      "F:/pascal_voc_test/VOCdevkit/VOC2007/ImageSets/Main/person_test.txt\n",
      "F:/pascal_voc_test/VOCdevkit/VOC2007/ImageSets/Main/pottedplant_test.txt\n",
      "F:/pascal_voc_test/VOCdevkit/VOC2007/ImageSets/Main/sheep_test.txt\n",
      "F:/pascal_voc_test/VOCdevkit/VOC2007/ImageSets/Main/sofa_test.txt\n",
      "F:/pascal_voc_test/VOCdevkit/VOC2007/ImageSets/Main/test.txt\n",
      "F:/pascal_voc_test/VOCdevkit/VOC2007/ImageSets/Main/train_test.txt\n",
      "F:/pascal_voc_test/VOCdevkit/VOC2007/ImageSets/Main/tvmonitor_test.txt\n"
     ]
    }
   ],
   "source": [
    "# path = 'F:/pascal_voc_test/VOCdevkit/VOC2007/ImageSets/Main/'\n",
    "# file_lis = os.listdir(path)\n",
    "\n",
    "\n",
    "# # print(file_lis[-1])\n",
    "# for i in range(21):\n",
    "#     file_path = 'F:/pascal_voc_test/VOCdevkit/VOC2007/ImageSets/Main/' + file_lis[i]\n",
    "#     file_new_path = 'F:/pascal_voc_test/VOCdevkit/VOC2007/ImageSets/Main/test_new.txt'\n",
    "#     with open(file_path,'r') as f1:\n",
    "#         lines = f1.readlines()\n",
    "#     with open(file_new_path,'w') as f2:\n",
    "#         for line in lines:\n",
    "#             for j in only_tm_name_set:\n",
    "#                 if j not in line:\n",
    "#                     continue\n",
    "#                 else:\n",
    "#                     line = ''\n",
    "#                     break\n",
    "#             f2.write(line)\n",
    "#     shutil.move(file_new_path,file_path)"
   ]
  },
  {
   "cell_type": "code",
   "execution_count": 138,
   "metadata": {
    "ExecuteTime": {
     "end_time": "2020-11-01T12:52:47.098283Z",
     "start_time": "2020-11-01T12:52:47.078925Z"
    }
   },
   "outputs": [
    {
     "name": "stdout",
     "output_type": "stream",
     "text": [
      "[43, 55, 67, 79]\n",
      "['<annotation>\\n', '\\t<folder>VOC2007</folder>\\n', '\\t<filename>000059.jpg</filename>\\n', '\\t<source>\\n', '\\t\\t<database>The VOC2007 Database</database>\\n', '\\t\\t<annotation>PASCAL VOC2007</annotation>\\n', '\\t\\t<image>flickr</image>\\n', '\\t\\t<flickrid>327587573</flickrid>\\n', '\\t</source>\\n', '\\t<owner>\\n', '\\t\\t<flickrid>CazyB</flickrid>\\n', '\\t\\t<name>Cathryn Banks</name>\\n', '\\t</owner>\\n', '\\t<size>\\n', '\\t\\t<width>375</width>\\n', '\\t\\t<height>500</height>\\n', '\\t\\t<depth>3</depth>\\n', '\\t</size>\\n', '\\t<segmented>0</segmented>\\n', '\\t<object>\\n', '\\t\\t<name>tvmonitor</name>\\n', '\\t\\t<pose>Frontal</pose>\\n', '\\t\\t<truncated>0</truncated>\\n', '\\t\\t<difficult>0</difficult>\\n', '\\t\\t<bndbox>\\n', '\\t\\t\\t<xmin>88</xmin>\\n', '\\t\\t\\t<ymin>161</ymin>\\n', '\\t\\t\\t<xmax>142</xmax>\\n', '\\t\\t\\t<ymax>206</ymax>\\n', '\\t\\t</bndbox>\\n', '\\t</object>\\n', '\\t<object>\\n', '\\t\\t<name>tvmonitor</name>\\n', '\\t\\t<pose>Frontal</pose>\\n', '\\t\\t<truncated>0</truncated>\\n', '\\t\\t<difficult>0</difficult>\\n', '\\t\\t<bndbox>\\n', '\\t\\t\\t<xmin>177</xmin>\\n', '\\t\\t\\t<ymin>135</ymin>\\n', '\\t\\t\\t<xmax>273</xmax>\\n', '\\t\\t\\t<ymax>200</ymax>\\n', '\\t\\t</bndbox>\\n', '\\t</object>\\n', '</annotation>\\n']\n"
     ]
    },
    {
     "data": {
      "text/plain": [
       "'F:/pascal_voc_test/VOCdevkit/VOC2007/Annotations_tm/test1.xml'"
      ]
     },
     "execution_count": 138,
     "metadata": {},
     "output_type": "execute_result"
    }
   ],
   "source": [
    "# # delete_from_tm_xml（）函数单个文件测试\n",
    "\n",
    "# xml_test = 'F:/pascal_voc_test/VOCdevkit/VOC2007/Annotations_tm/test1.xml'\n",
    "# xml_new = 'F:/pascal_voc_test/VOCdevkit/VOC2007/Annotations_tm/test1_new.xml'\n",
    "# count = -1\n",
    "# count_set = []\n",
    "# with open(xml_test,'r') as f1:\n",
    "#     content = f1.readlines()\n",
    "#     for con in content:\n",
    "#         count += 1\n",
    "#         for item in classes:\n",
    "#             if '<name>' + item + '</name>' in con:\n",
    "#                 count_set.append(count-1)# 找到其他类对应的object\n",
    "                \n",
    "# print(count_set)                \n",
    "# with open(xml_new,'w') as f2: # 重写文件，删除所有包含其他类的object\n",
    "#     new_content = []\n",
    "#     l,pos = 12,0\n",
    "#     for start in count_set:\n",
    "#         new_content += content[pos:start]\n",
    "#         pos = start + l\n",
    "#     new_content += content[pos:]\n",
    "#     for line in new_content:\n",
    "#         f2.write(line)\n",
    "              \n",
    "# shutil.move(xml_new, xml_test) \n",
    "                    "
   ]
  },
  {
   "cell_type": "code",
   "execution_count": 51,
   "metadata": {
    "ExecuteTime": {
     "end_time": "2020-10-30T04:13:45.132736Z",
     "start_time": "2020-10-30T04:13:44.998320Z"
    }
   },
   "outputs": [
    {
     "name": "stdout",
     "output_type": "stream",
     "text": [
      "229 86\n"
     ]
    }
   ],
   "source": [
    "# only_tm_set = []\n",
    "# for i in range(num):\n",
    "#     flag = 1 # 0表示还有其他类，1表示只有tvmonitor\n",
    "#     with open(xml_file_set[i],'r') as f:\n",
    "#         lines = f.readlines()\n",
    "#         for item in classes:\n",
    "#             for line in lines:\n",
    "#                 if item in line:\n",
    "#                     flag = 0\n",
    "#                     break\n",
    "#     if flag == 1:\n",
    "#         only_tm_set.append(xml_file_set[i])\n",
    "# print(num,len(only_tm_set))"
   ]
  },
  {
   "cell_type": "code",
   "execution_count": 55,
   "metadata": {
    "ExecuteTime": {
     "end_time": "2020-10-30T04:35:20.350961Z",
     "start_time": "2020-10-30T04:35:20.342997Z"
    }
   },
   "outputs": [
    {
     "data": {
      "text/plain": [
       "'F:/pascal_voc_test/VOCdevkit/VOC2007/JPEGImages_tm/000001.jpg'"
      ]
     },
     "execution_count": 55,
     "metadata": {},
     "output_type": "execute_result"
    }
   ],
   "source": [
    "# source = 'F:/pascal_voc_test/VOCdevkit/VOC2007/JPEGImages/000001.jpg'\n",
    "# target = 'F:/pascal_voc_test/VOCdevkit/VOC2007/JPEGImages_tm/000001.jpg'\n",
    "# shutil.copy(source,target)"
   ]
  },
  {
   "cell_type": "code",
   "execution_count": null,
   "metadata": {},
   "outputs": [],
   "source": []
  }
 ],
 "metadata": {
  "kernelspec": {
   "display_name": "Pytorch for Deeplearning",
   "language": "python",
   "name": "pytorch"
  },
  "language_info": {
   "codemirror_mode": {
    "name": "ipython",
    "version": 3
   },
   "file_extension": ".py",
   "mimetype": "text/x-python",
   "name": "python",
   "nbconvert_exporter": "python",
   "pygments_lexer": "ipython3",
   "version": "3.7.1"
  },
  "toc": {
   "base_numbering": 1,
   "nav_menu": {},
   "number_sections": true,
   "sideBar": true,
   "skip_h1_title": false,
   "title_cell": "Table of Contents",
   "title_sidebar": "Contents",
   "toc_cell": false,
   "toc_position": {},
   "toc_section_display": true,
   "toc_window_display": false
  },
  "varInspector": {
   "cols": {
    "lenName": 16,
    "lenType": 16,
    "lenVar": 40
   },
   "kernels_config": {
    "python": {
     "delete_cmd_postfix": "",
     "delete_cmd_prefix": "del ",
     "library": "var_list.py",
     "varRefreshCmd": "print(var_dic_list())"
    },
    "r": {
     "delete_cmd_postfix": ") ",
     "delete_cmd_prefix": "rm(",
     "library": "var_list.r",
     "varRefreshCmd": "cat(var_dic_list()) "
    }
   },
   "types_to_exclude": [
    "module",
    "function",
    "builtin_function_or_method",
    "instance",
    "_Feature"
   ],
   "window_display": false
  }
 },
 "nbformat": 4,
 "nbformat_minor": 2
}
