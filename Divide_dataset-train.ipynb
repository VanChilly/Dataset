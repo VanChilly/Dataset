{
 "cells": [
  {
   "cell_type": "code",
   "execution_count": 1,
   "metadata": {
    "ExecuteTime": {
     "end_time": "2020-11-03T03:06:49.025321Z",
     "start_time": "2020-11-03T03:06:49.021849Z"
    }
   },
   "outputs": [],
   "source": [
    "import os\n",
    "import shutil"
   ]
  },
  {
   "cell_type": "code",
   "execution_count": 2,
   "metadata": {
    "ExecuteTime": {
     "end_time": "2020-11-03T03:06:51.052121Z",
     "start_time": "2020-11-03T03:06:51.043181Z"
    }
   },
   "outputs": [],
   "source": [
    "# 删除xml文件里指定行\n",
    "\n",
    "def delete_row(xml_test):\n",
    "#     xml_test = 'F:/pascal_voc_test/VOCdevkit/VOC2007/Annotations/test.xml'\n",
    "    xml_new = 'F:/pascal_voc_test/VOCdevkit/VOC2007/Annotations/test_new.xml'\n",
    "    count = -1\n",
    "    count_set = []\n",
    "    with open(xml_test,'r') as f1:\n",
    "        content = f1.readlines()\n",
    "        for con in content:\n",
    "            count += 1\n",
    "            if 'tvmonitor' in con:\n",
    "                count_set.append(count-1)# 找到tvmonitor对应的object\n",
    "                \n",
    "    with open(xml_new,'w') as f2: # 重写文件，删除所有包含tvmonitor的object\n",
    "        new_content = []\n",
    "        l,pos = 12,0\n",
    "        for start in count_set:\n",
    "            new_content += content[pos:start]\n",
    "            pos = start + l\n",
    "        new_content += content[pos:]\n",
    "        for line in new_content:\n",
    "            f2.write(line)\n",
    "    shutil.move(xml_new, xml_test)        "
   ]
  },
  {
   "cell_type": "code",
   "execution_count": 3,
   "metadata": {
    "ExecuteTime": {
     "end_time": "2020-11-03T03:06:53.571246Z",
     "start_time": "2020-11-03T03:06:53.566285Z"
    }
   },
   "outputs": [],
   "source": [
    "def delete_img(only_tm_name_set):\n",
    "    source_path = 'F:/pascal_voc_train/VOCdevkit/VOC2007/JPEGImages/'\n",
    "    target_path = 'F:/pascal_voc_train/VOCdevkit/VOC2007/JPEGImages_tm/'\n",
    "    for i in range(len(only_tm_name_set)):\n",
    "        source_imgfile = source_path + only_tm_name_set[i] + '.jpg'\n",
    "        target_imgfile = target_path + only_tm_name_set[i] + '.jpg'\n",
    "        shutil.move(source_imgfile,target_imgfile)"
   ]
  },
  {
   "cell_type": "code",
   "execution_count": 4,
   "metadata": {
    "ExecuteTime": {
     "end_time": "2020-11-03T03:06:54.114618Z",
     "start_time": "2020-11-03T03:06:54.110169Z"
    }
   },
   "outputs": [],
   "source": [
    "# 复制共有的img\n",
    "def copy_img(all_minus_tm):\n",
    "    source_path = 'F:/pascal_voc_train/VOCdevkit/VOC2007/JPEGImages/'\n",
    "    target_path = 'F:/pascal_voc_train/VOCdevkit/VOC2007/JPEGImages_tm/'\n",
    "    for i in range(len(all_minus_tm)):\n",
    "        source_imgfile = source_path + all_minus_tm[i] + '.jpg'\n",
    "        target_imgfile = target_path + all_minus_tm[i] + '.jpg'\n",
    "        shutil.copy(source_imgfile,target_imgfile)"
   ]
  },
  {
   "cell_type": "code",
   "execution_count": 5,
   "metadata": {
    "ExecuteTime": {
     "end_time": "2020-11-03T03:06:55.371387Z",
     "start_time": "2020-11-03T03:06:55.366418Z"
    }
   },
   "outputs": [],
   "source": [
    "def delete_xml(only_tm_name_set):\n",
    "    source_path = 'F:/pascal_voc_train/VOCdevkit/VOC2007/Annotations/'\n",
    "    target_path = 'F:/pascal_voc_train/VOCdevkit/VOC2007/Annotations_tm/'\n",
    "    for i in range(len(only_tm_name_set)):\n",
    "        source_xmlfile = source_path + only_tm_name_set[i] + '.xml'\n",
    "        target_xmlfile = target_path + only_tm_name_set[i] + '.xml'\n",
    "        shutil.move(source_xmlfile,target_xmlfile)"
   ]
  },
  {
   "cell_type": "code",
   "execution_count": 6,
   "metadata": {
    "ExecuteTime": {
     "end_time": "2020-11-03T03:06:55.993136Z",
     "start_time": "2020-11-03T03:06:55.987692Z"
    }
   },
   "outputs": [],
   "source": [
    "# 复制共有的xml\n",
    "def copy_xml(all_minus_tm):\n",
    "    source_path = 'F:/pascal_voc_train/VOCdevkit/VOC2007/Annotations/'\n",
    "    target_path = 'F:/pascal_voc_train/VOCdevkit/VOC2007/Annotations_tm/'\n",
    "    for i in range(len(all_minus_tm)):\n",
    "        source_xmlfile = source_path + all_minus_tm[i] + '.xml'\n",
    "        target_xmlfile = target_path + all_minus_tm[i] + '.xml'\n",
    "        shutil.copy(source_xmlfile,target_xmlfile)"
   ]
  },
  {
   "cell_type": "code",
   "execution_count": 7,
   "metadata": {
    "ExecuteTime": {
     "end_time": "2020-11-03T03:06:58.051783Z",
     "start_time": "2020-11-03T03:06:58.038876Z"
    }
   },
   "outputs": [],
   "source": [
    "# 从不止含有tvmonitor的xml删除其他类object\n",
    "\n",
    "def delete_from_tm_xml(xml_test):\n",
    "    \n",
    "    xml_new = 'F:/pascal_voc_train/VOCdevkit/VOC2007/Annotations_tm/test1_new.xml'\n",
    "    count = -1\n",
    "    count_set = []\n",
    "    with open(xml_test,'r') as f1:\n",
    "        content = f1.readlines()\n",
    "        for con in content:\n",
    "            count += 1\n",
    "            for item in person:\n",
    "                if '<name>' + item + '</name>' in con:\n",
    "                    count_set.append(count-1)# 找到其他类对应的object\n",
    "\n",
    "    with open(xml_new,'w') as f2: # 重写文件，删除所有包含其他类的object\n",
    "        new_content = []\n",
    "        l,pos = 9,0\n",
    "        for start in count_set:\n",
    "            new_content += content[pos:start]\n",
    "            pos = start + l\n",
    "        new_content += content[pos:]\n",
    "        for line in new_content:\n",
    "            f2.write(line)\n",
    "\n",
    "    shutil.move(xml_new,xml_test)\n",
    "\n",
    "    count = -1\n",
    "    count_set = []\n",
    "    with open(xml_test,'r') as f1:\n",
    "        content = f1.readlines()\n",
    "        for con in content:\n",
    "            count += 1\n",
    "            for item in classes:\n",
    "                if '<name>' + item + '</name>' in con:\n",
    "                    count_set.append(count-1)# 找到其他类对应的object\n",
    "\n",
    "    with open(xml_new,'w') as f2: # 重写文件，删除所有包含其他类的object\n",
    "        new_content = []\n",
    "        l,pos = 12,0\n",
    "        for start in count_set:\n",
    "            new_content += content[pos:start]\n",
    "            pos = start + l\n",
    "        new_content += content[pos:]\n",
    "        for line in new_content:\n",
    "            f2.write(line)\n",
    "\n",
    "    shutil.move(xml_new,xml_test)"
   ]
  },
  {
   "cell_type": "code",
   "execution_count": 8,
   "metadata": {
    "ExecuteTime": {
     "end_time": "2020-11-03T03:07:00.148655Z",
     "start_time": "2020-11-03T03:07:00.133801Z"
    }
   },
   "outputs": [
    {
     "name": "stdout",
     "output_type": "stream",
     "text": [
      "256 ['000039', '000041', '000104', '000121', '000162', '000187', '000224', '000257', '000304', '000349', '000559', '000597', '000598', '000626', '000632', '000633', '000707', '000761', '000843', '000923', '000948', '000989', '000997', '001010', '001011', '001024', '001027', '001062', '001077', '001149', '001166', '001175', '001214', '001234', '001343', '001430', '001444', '001470', '001529', '001536', '001543', '001588', '001590', '001650', '001678', '001717', '001725', '001752', '001809', '001810', '001827', '001875', '001920', '002004', '002086', '002117', '002124', '002132', '002280', '002328', '002334', '002441', '002549', '002561', '002627', '002645', '002767', '002778', '002901', '002931', '002939', '002952', '002953', '002989', '003005', '003011', '003120', '003157', '003204', '003258', '003260', '003300', '003356', '003374', '003398', '003401', '003449', '003451', '003487', '003604', '003660', '003662', '003678', '003694', '003751', '003759', '003780', '003808', '003911', '003947', '003963', '003983', '004020', '004100', '004106', '004148', '004150', '004163', '004164', '004190', '004192', '004193', '004237', '004274', '004331', '004341', '004438', '004510', '004514', '004549', '004652', '004754', '004773', '004868', '004916', '004955', '004956', '005007', '005027', '005104', '005153', '005160', '005210', '005349', '005396', '005454', '005517', '005526', '005563', '005605', '005618', '005796', '005799', '005814', '005852', '005856', '005867', '006000', '006029', '006041', '006066', '006074', '006131', '006158', '006179', '006209', '006238', '006314', '006323', '006339', '006348', '006395', '006411', '006450', '006472', '006473', '006583', '006622', '006628', '006684', '006704', '006755', '006760', '006814', '006842', '006947', '006987', '007023', '007039', '007100', '007113', '007130', '007166', '007189', '007210', '007219', '007250', '007263', '007359', '007390', '007394', '007432', '007458', '007465', '007506', '007530', '007544', '007559', '007702', '007729', '007732', '007754', '007762', '007915', '007999', '008049', '008067', '008076', '008121', '008177', '008282', '008285', '008302', '008365', '008374', '008386', '008422', '008462', '008557', '008655', '008709', '008837', '008874', '008888', '008913', '008948', '008955', '008970', '008982', '009032', '009051', '009094', '009155', '009173', '009192', '009196', '009200', '009249', '009279', '009295', '009325', '009333', '009373', '009388', '009445', '009446', '009454', '009484', '009576', '009611', '009656', '009746', '009867', '009881', '009882', '009935']\n"
     ]
    }
   ],
   "source": [
    "# 1\n",
    "# 获得tvmonitor类的文件\n",
    "\n",
    "classes = ['aeroplane', 'bicycle', 'bird', 'boat',\n",
    "           'bottle', 'bus', 'car', 'cat', 'chair',\n",
    "           'cow', 'diningtable', 'dog', 'horse',\n",
    "           'motorbike', 'person', 'pottedplant',\n",
    "           'sheep', 'sofa', 'train']\n",
    "person = ['head','hand','foot']\n",
    "tv_file = 'F:/pascal_voc_train/VOCdevkit/VOC2007/ImageSets/Main/tvmonitor_trainval.txt'\n",
    "xml_path = 'F:/pascal_voc_train/VOCdevkit/VOC2007/Annotations/'\n",
    "name_set = []\n",
    "label_set = []\n",
    "xml_file_set = []\n",
    "\n",
    "with open(tv_file, 'r') as f:\n",
    "\n",
    "    for data in f.readlines():\n",
    "        \n",
    "        name = data[:6]\n",
    "        label = data[7:9]\n",
    "        \n",
    "        if label[0] == ' ':\n",
    "            label = label[1]\n",
    "        if label == '1':\n",
    "            name_set.append(name) \n",
    "    print(len(name_set),name_set)\n",
    "\n"
   ]
  },
  {
   "cell_type": "code",
   "execution_count": 9,
   "metadata": {
    "ExecuteTime": {
     "end_time": "2020-11-03T03:07:45.371329Z",
     "start_time": "2020-11-03T03:07:41.321007Z"
    }
   },
   "outputs": [
    {
     "name": "stdout",
     "output_type": "stream",
     "text": [
      "256 74 ['000039', '000121', '000187', '000304', '000989', '001010', '001062', '001077', '001166', '001470', '001752', '001827', '001875', '002004', '002086', '002132', '002280', '002328', '002549', '003157', '003204', '003356', '003398', '003660', '003808', '003983', '004100', '004148', '004163', '004190', '004192', '004331', '004341', '004514', '004652', '005007', '005210', '006074', '006131', '006314', '006323', '006472', '006684', '006704', '006814', '006842', '006947', '007039', '007100', '007113', '007210', '007394', '007465', '007506', '007702', '007729', '008049', '008067', '008121', '008422', '008709', '008837', '008913', '008955', '009094', '009155', '009173', '009192', '009196', '009325', '009373', '009445', '009446', '009576']\n"
     ]
    }
   ],
   "source": [
    "# 2\n",
    "# 包含tvmonitor类的数量\n",
    "num = len(name_set)\n",
    "only_tm_set = [] # 只含有tvmonitor的xml\n",
    "only_tm_name_set = [] # 只含有tvmonitor的编号\n",
    "\n",
    "for i in range(num):\n",
    "    xml_file = xml_path + name_set[i] + '.xml'\n",
    "    xml_file_set.append(xml_file)\n",
    "    delete_row(xml_file)    \n",
    "    # 获得只包含tvmonitor的xml文件集合only_tm_set\n",
    "    flag = 1 # 0表示还有其他类，1表示只有tvmonitor\n",
    "    with open(xml_file_set[i],'r') as f:\n",
    "        lines = f.readlines()\n",
    "        for item in classes:\n",
    "            for line in lines:\n",
    "                if '<name>' + item + '</name>'  in line:\n",
    "                    flag = 0\n",
    "                    break\n",
    "    if flag == 1:\n",
    "        only_tm_set.append(xml_file_set[i])\n",
    "        only_tm_name_set.append(name_set[i])\n",
    "print(num,len(only_tm_set),only_tm_name_set)\n",
    "\n",
    "# 删除tvmonitor图片\n",
    "\n",
    "delete_xml(only_tm_name_set)\n"
   ]
  },
  {
   "cell_type": "code",
   "execution_count": 10,
   "metadata": {
    "ExecuteTime": {
     "end_time": "2020-11-03T03:08:14.738146Z",
     "start_time": "2020-11-03T03:08:14.379936Z"
    }
   },
   "outputs": [],
   "source": [
    "delete_img(only_tm_name_set)"
   ]
  },
  {
   "cell_type": "code",
   "execution_count": 12,
   "metadata": {
    "ExecuteTime": {
     "end_time": "2020-11-03T03:08:27.135846Z",
     "start_time": "2020-11-03T03:08:22.316728Z"
    }
   },
   "outputs": [
    {
     "name": "stdout",
     "output_type": "stream",
     "text": [
      "['000041', '000104', '000162', '000224', '000257', '000349', '000559', '000597', '000598', '000626', '000632', '000633', '000707', '000761', '000843', '000923', '000948', '000997', '001011', '001024', '001027', '001149', '001175', '001214', '001234', '001343', '001430', '001444', '001529', '001536', '001543', '001588', '001590', '001650', '001678', '001717', '001725', '001809', '001810', '001920', '002117', '002124', '002334', '002441', '002561', '002627', '002645', '002767', '002778', '002901', '002931', '002939', '002952', '002953', '002989', '003005', '003011', '003120', '003258', '003260', '003300', '003374', '003401', '003449', '003451', '003487', '003604', '003662', '003678', '003694', '003751', '003759', '003780', '003911', '003947', '003963', '004020', '004106', '004150', '004164', '004193', '004237', '004274', '004438', '004510', '004549', '004754', '004773', '004868', '004916', '004955', '004956', '005027', '005104', '005153', '005160', '005349', '005396', '005454', '005517', '005526', '005563', '005605', '005618', '005796', '005799', '005814', '005852', '005856', '005867', '006000', '006029', '006041', '006066', '006158', '006179', '006209', '006238', '006339', '006348', '006395', '006411', '006450', '006473', '006583', '006622', '006628', '006755', '006760', '006987', '007023', '007130', '007166', '007189', '007219', '007250', '007263', '007359', '007390', '007432', '007458', '007530', '007544', '007559', '007732', '007754', '007762', '007915', '007999', '008076', '008177', '008282', '008285', '008302', '008365', '008374', '008386', '008462', '008557', '008655', '008874', '008888', '008948', '008970', '008982', '009032', '009051', '009200', '009249', '009279', '009295', '009333', '009388', '009454', '009484', '009611', '009656', '009746', '009867', '009881', '009882', '009935']\n"
     ]
    }
   ],
   "source": [
    "# 3\n",
    "# 将至少有tvmonitor类的文件复制\n",
    "\n",
    "all_minus_tm = [i for i in name_set if i not in only_tm_name_set]\n",
    "print(all_minus_tm)\n",
    "copy_img(all_minus_tm)"
   ]
  },
  {
   "cell_type": "code",
   "execution_count": 13,
   "metadata": {
    "ExecuteTime": {
     "end_time": "2020-11-03T03:08:27.749837Z",
     "start_time": "2020-11-03T03:08:27.163622Z"
    }
   },
   "outputs": [],
   "source": [
    "# 4\n",
    "copy_xml(all_minus_tm)"
   ]
  },
  {
   "cell_type": "code",
   "execution_count": 14,
   "metadata": {
    "ExecuteTime": {
     "end_time": "2020-11-03T03:08:30.083317Z",
     "start_time": "2020-11-03T03:08:29.393382Z"
    }
   },
   "outputs": [],
   "source": [
    "# 5\n",
    "# 恢复object内容（only_tm_name_set）\n",
    "\n",
    "source_path = 'F:/pascal_voc_train/VOCdevkit/Annotations/'\n",
    "target_path = 'F:/pascal_voc_train/VOCdevkit/VOC2007/Annotations_tm/'\n",
    "for i in range(len(only_tm_name_set)):\n",
    "        source_xmlfile = source_path + only_tm_name_set[i] + '.xml'\n",
    "        target_xmlfile = target_path + only_tm_name_set[i] + '.xml'\n",
    "        shutil.copy(source_xmlfile,target_xmlfile)"
   ]
  },
  {
   "cell_type": "code",
   "execution_count": 15,
   "metadata": {
    "ExecuteTime": {
     "end_time": "2020-11-03T03:08:33.490226Z",
     "start_time": "2020-11-03T03:08:31.764276Z"
    }
   },
   "outputs": [],
   "source": [
    "# 6\n",
    "# 恢复object内容(all_minus_tm)\n",
    "\n",
    "source_path = 'F:/pascal_voc_train/VOCdevkit/Annotations/'\n",
    "target_path = 'F:/pascal_voc_train/VOCdevkit/VOC2007/Annotations_tm/'\n",
    "for i in range(len(all_minus_tm)):\n",
    "        source_xmlfile = source_path + all_minus_tm[i] + '.xml'\n",
    "        target_xmlfile = target_path + all_minus_tm[i] + '.xml'\n",
    "        shutil.copy(source_xmlfile,target_xmlfile)"
   ]
  },
  {
   "cell_type": "code",
   "execution_count": 16,
   "metadata": {
    "ExecuteTime": {
     "end_time": "2020-11-03T03:08:40.308651Z",
     "start_time": "2020-11-03T03:08:34.959181Z"
    }
   },
   "outputs": [],
   "source": [
    "# 7\n",
    "# 删除其他类object\n",
    "for i in range(len(all_minus_tm)):\n",
    "    xml_tm_path = 'F:/pascal_voc_train/VOCdevkit/VOC2007/Annotations_tm/'\n",
    "    xml_test = xml_tm_path + all_minus_tm[i] + '.xml'\n",
    "    delete_from_tm_xml(xml_test)"
   ]
  },
  {
   "cell_type": "code",
   "execution_count": 17,
   "metadata": {
    "ExecuteTime": {
     "end_time": "2020-11-03T03:08:51.186043Z",
     "start_time": "2020-11-03T03:08:50.907291Z"
    }
   },
   "outputs": [
    {
     "data": {
      "text/plain": [
       "'F:/pascal_voc_train/VOCdevkit/VOC2007/ImageSets/Main/trainval.txt'"
      ]
     },
     "execution_count": 17,
     "metadata": {},
     "output_type": "execute_result"
    }
   ],
   "source": [
    "# 处理tvmonitor test.txt\n",
    "file_path = 'F:/pascal_voc_train/VOCdevkit/VOC2007/ImageSets/Main/trainval.txt'\n",
    "file_new = 'F:/pascal_voc_train/VOCdevkit/VOC2007/ImageSets/Main/test_new.txt'\n",
    "with open(file_path,'r') as f1:\n",
    "    lines = f1.readlines()\n",
    "with open(file_new,'w') as f2:\n",
    "    for line in lines:\n",
    "        for item in name_set:\n",
    "            if item in line:\n",
    "                f2.write(line)\n",
    "\n",
    "shutil.move(file_new,file_path)"
   ]
  },
  {
   "cell_type": "code",
   "execution_count": 18,
   "metadata": {
    "ExecuteTime": {
     "end_time": "2020-11-03T03:09:34.048045Z",
     "start_time": "2020-11-03T03:09:33.848126Z"
    }
   },
   "outputs": [
    {
     "data": {
      "text/plain": [
       "'F:/pascal_voc_train/VOCdevkit/VOC2007/ImageSets/Main/trainval.txt'"
      ]
     },
     "execution_count": 18,
     "metadata": {},
     "output_type": "execute_result"
    }
   ],
   "source": [
    "# 处理19 test.txt\n",
    "file_path = 'F:/pascal_voc_train/VOCdevkit/VOC2007/ImageSets/Main/trainval.txt'\n",
    "file_new = 'F:/pascal_voc_train/VOCdevkit/VOC2007/ImageSets/Main/test_new.txt'\n",
    "\n",
    "with open(file_path,'r') as f1:\n",
    "    lines = f1.readlines()\n",
    "with open(file_new,'w') as f2:\n",
    "    for line in lines:\n",
    "        flag = 0\n",
    "        for item in only_tm_name_set:\n",
    "            if item in line:\n",
    "                flag = 1\n",
    "        if flag == 0:\n",
    "            f2.write(line)\n",
    "            \n",
    "shutil.move(file_new,file_path)"
   ]
  },
  {
   "cell_type": "code",
   "execution_count": 58,
   "metadata": {
    "ExecuteTime": {
     "end_time": "2020-11-03T02:32:27.848648Z",
     "start_time": "2020-11-03T02:32:27.842725Z"
    },
    "collapsed": true
   },
   "outputs": [
    {
     "data": {
      "text/plain": [
       "['000045',\n",
       " '000204',\n",
       " '000571',\n",
       " '000790',\n",
       " '000813',\n",
       " '001007',\n",
       " '001029',\n",
       " '001367',\n",
       " '001500',\n",
       " '001546',\n",
       " '001695',\n",
       " '001704',\n",
       " '001813',\n",
       " '001871',\n",
       " '002073',\n",
       " '002093',\n",
       " '002258',\n",
       " '002282',\n",
       " '002356',\n",
       " '002601',\n",
       " '002608',\n",
       " '002902',\n",
       " '002985',\n",
       " '002997',\n",
       " '003136',\n",
       " '003158',\n",
       " '003248',\n",
       " '003291',\n",
       " '003389',\n",
       " '003463',\n",
       " '003507',\n",
       " '003686',\n",
       " '003716',\n",
       " '003757',\n",
       " '003801',\n",
       " '003909',\n",
       " '004024',\n",
       " '004664',\n",
       " '005059',\n",
       " '005178',\n",
       " '005235',\n",
       " '005565',\n",
       " '005587',\n",
       " '005807',\n",
       " '005834',\n",
       " '005902',\n",
       " '005946',\n",
       " '006075',\n",
       " '006116',\n",
       " '006345',\n",
       " '006389',\n",
       " '007196',\n",
       " '007842',\n",
       " '007982',\n",
       " '008179',\n",
       " '008274',\n",
       " '008291',\n",
       " '008404',\n",
       " '008428',\n",
       " '008561',\n",
       " '008611',\n",
       " '008659',\n",
       " '008660',\n",
       " '008675',\n",
       " '008707',\n",
       " '008851',\n",
       " '008949',\n",
       " '009097',\n",
       " '009217',\n",
       " '009226',\n",
       " '009319',\n",
       " '009357',\n",
       " '009379',\n",
       " '009404',\n",
       " '009474',\n",
       " '009594',\n",
       " '009795',\n",
       " '009837',\n",
       " '009888',\n",
       " '009906']"
      ]
     },
     "execution_count": 58,
     "metadata": {},
     "output_type": "execute_result"
    }
   ],
   "source": [
    "only_tm_name_set"
   ]
  },
  {
   "cell_type": "code",
   "execution_count": 24,
   "metadata": {
    "ExecuteTime": {
     "end_time": "2020-11-03T01:51:22.825609Z",
     "start_time": "2020-11-03T01:51:22.794858Z"
    }
   },
   "outputs": [
    {
     "data": {
      "text/plain": [
       "'F:/pascal_voc_test/VOCdevkit/VOC2007/test.xml'"
      ]
     },
     "execution_count": 24,
     "metadata": {},
     "output_type": "execute_result"
    }
   ],
   "source": [
    "# 单个文件测试删除person中的head,hand,foot part\n",
    "# file_path = 'F:/pascal_voc_test/VOCdevkit/VOC2007/test.xml'\n",
    "# file_new_path = 'F:/pascal_voc_test/VOCdevkit/VOC2007/test_new.xml'\n",
    "# count = -1\n",
    "# count_set = []\n",
    "# with open(file_path,'r') as f1:\n",
    "#     content = f1.readlines()\n",
    "#     for con in content:\n",
    "#         count += 1\n",
    "#         for item in person:\n",
    "#             if '<name>' + item + '</name>' in con:\n",
    "#                 count_set.append(count-1)# 找到其他类对应的object\n",
    "              \n",
    "# with open(file_new_path,'w') as f2: # 重写文件，删除所有包含其他类的object\n",
    "#     new_content = []\n",
    "#     l,pos = 9,0\n",
    "#     for start in count_set:\n",
    "#         new_content += content[pos:start]\n",
    "#         pos = start + l\n",
    "#     new_content += content[pos:]\n",
    "#     for line in new_content:\n",
    "#         f2.write(line)\n",
    "        \n",
    "# shutil.move(file_new_path,file_path)\n",
    "\n",
    "# count = -1\n",
    "# count_set = []\n",
    "# with open(file_path,'r') as f1:\n",
    "#     content = f1.readlines()\n",
    "#     for con in content:\n",
    "#         count += 1\n",
    "#         for item in classes:\n",
    "#             if '<name>' + item + '</name>' in con:\n",
    "#                 count_set.append(count-1)# 找到其他类对应的object\n",
    "              \n",
    "# with open(file_new_path,'w') as f2: # 重写文件，删除所有包含其他类的object\n",
    "#     new_content = []\n",
    "#     l,pos = 12,0\n",
    "#     for start in count_set:\n",
    "#         new_content += content[pos:start]\n",
    "#         pos = start + l\n",
    "#     new_content += content[pos:]\n",
    "#     for line in new_content:\n",
    "#         f2.write(line)\n",
    "        \n",
    "# shutil.move(file_new_path,file_path)"
   ]
  },
  {
   "cell_type": "code",
   "execution_count": 20,
   "metadata": {
    "ExecuteTime": {
     "end_time": "2020-10-30T15:34:07.721623Z",
     "start_time": "2020-10-30T15:34:05.471855Z"
    },
    "collapsed": true
   },
   "outputs": [
    {
     "name": "stdout",
     "output_type": "stream",
     "text": [
      "F:/pascal_voc_test/VOCdevkit/VOC2007/ImageSets/Main/aeroplane_test.txt\n",
      "F:/pascal_voc_test/VOCdevkit/VOC2007/ImageSets/Main/bicycle_test.txt\n",
      "F:/pascal_voc_test/VOCdevkit/VOC2007/ImageSets/Main/bird_test.txt\n",
      "F:/pascal_voc_test/VOCdevkit/VOC2007/ImageSets/Main/boat_test.txt\n",
      "F:/pascal_voc_test/VOCdevkit/VOC2007/ImageSets/Main/bottle_test.txt\n",
      "F:/pascal_voc_test/VOCdevkit/VOC2007/ImageSets/Main/bus_test.txt\n",
      "F:/pascal_voc_test/VOCdevkit/VOC2007/ImageSets/Main/car_test.txt\n",
      "F:/pascal_voc_test/VOCdevkit/VOC2007/ImageSets/Main/cat_test.txt\n",
      "F:/pascal_voc_test/VOCdevkit/VOC2007/ImageSets/Main/chair_test.txt\n",
      "F:/pascal_voc_test/VOCdevkit/VOC2007/ImageSets/Main/cow_test.txt\n",
      "F:/pascal_voc_test/VOCdevkit/VOC2007/ImageSets/Main/diningtable_test.txt\n",
      "F:/pascal_voc_test/VOCdevkit/VOC2007/ImageSets/Main/dog_test.txt\n",
      "F:/pascal_voc_test/VOCdevkit/VOC2007/ImageSets/Main/horse_test.txt\n",
      "F:/pascal_voc_test/VOCdevkit/VOC2007/ImageSets/Main/motorbike_test.txt\n",
      "F:/pascal_voc_test/VOCdevkit/VOC2007/ImageSets/Main/person_test.txt\n",
      "F:/pascal_voc_test/VOCdevkit/VOC2007/ImageSets/Main/pottedplant_test.txt\n",
      "F:/pascal_voc_test/VOCdevkit/VOC2007/ImageSets/Main/sheep_test.txt\n",
      "F:/pascal_voc_test/VOCdevkit/VOC2007/ImageSets/Main/sofa_test.txt\n",
      "F:/pascal_voc_test/VOCdevkit/VOC2007/ImageSets/Main/test.txt\n",
      "F:/pascal_voc_test/VOCdevkit/VOC2007/ImageSets/Main/train_test.txt\n",
      "F:/pascal_voc_test/VOCdevkit/VOC2007/ImageSets/Main/tvmonitor_test.txt\n"
     ]
    }
   ],
   "source": [
    "# path = 'F:/pascal_voc_test/VOCdevkit/VOC2007/ImageSets/Main/'\n",
    "# file_lis = os.listdir(path)\n",
    "\n",
    "\n",
    "# # print(file_lis[-1])\n",
    "# for i in range(21):\n",
    "#     file_path = 'F:/pascal_voc_test/VOCdevkit/VOC2007/ImageSets/Main/' + file_lis[i]\n",
    "#     file_new_path = 'F:/pascal_voc_test/VOCdevkit/VOC2007/ImageSets/Main/test_new.txt'\n",
    "#     with open(file_path,'r') as f1:\n",
    "#         lines = f1.readlines()\n",
    "#     with open(file_new_path,'w') as f2:\n",
    "#         for line in lines:\n",
    "#             for j in only_tm_name_set:\n",
    "#                 if j not in line:\n",
    "#                     continue\n",
    "#                 else:\n",
    "#                     line = ''\n",
    "#                     break\n",
    "#             f2.write(line)\n",
    "#     shutil.move(file_new_path,file_path)"
   ]
  },
  {
   "cell_type": "code",
   "execution_count": 138,
   "metadata": {
    "ExecuteTime": {
     "end_time": "2020-11-01T12:52:47.098283Z",
     "start_time": "2020-11-01T12:52:47.078925Z"
    },
    "collapsed": true
   },
   "outputs": [
    {
     "name": "stdout",
     "output_type": "stream",
     "text": [
      "[43, 55, 67, 79]\n",
      "['<annotation>\\n', '\\t<folder>VOC2007</folder>\\n', '\\t<filename>000059.jpg</filename>\\n', '\\t<source>\\n', '\\t\\t<database>The VOC2007 Database</database>\\n', '\\t\\t<annotation>PASCAL VOC2007</annotation>\\n', '\\t\\t<image>flickr</image>\\n', '\\t\\t<flickrid>327587573</flickrid>\\n', '\\t</source>\\n', '\\t<owner>\\n', '\\t\\t<flickrid>CazyB</flickrid>\\n', '\\t\\t<name>Cathryn Banks</name>\\n', '\\t</owner>\\n', '\\t<size>\\n', '\\t\\t<width>375</width>\\n', '\\t\\t<height>500</height>\\n', '\\t\\t<depth>3</depth>\\n', '\\t</size>\\n', '\\t<segmented>0</segmented>\\n', '\\t<object>\\n', '\\t\\t<name>tvmonitor</name>\\n', '\\t\\t<pose>Frontal</pose>\\n', '\\t\\t<truncated>0</truncated>\\n', '\\t\\t<difficult>0</difficult>\\n', '\\t\\t<bndbox>\\n', '\\t\\t\\t<xmin>88</xmin>\\n', '\\t\\t\\t<ymin>161</ymin>\\n', '\\t\\t\\t<xmax>142</xmax>\\n', '\\t\\t\\t<ymax>206</ymax>\\n', '\\t\\t</bndbox>\\n', '\\t</object>\\n', '\\t<object>\\n', '\\t\\t<name>tvmonitor</name>\\n', '\\t\\t<pose>Frontal</pose>\\n', '\\t\\t<truncated>0</truncated>\\n', '\\t\\t<difficult>0</difficult>\\n', '\\t\\t<bndbox>\\n', '\\t\\t\\t<xmin>177</xmin>\\n', '\\t\\t\\t<ymin>135</ymin>\\n', '\\t\\t\\t<xmax>273</xmax>\\n', '\\t\\t\\t<ymax>200</ymax>\\n', '\\t\\t</bndbox>\\n', '\\t</object>\\n', '</annotation>\\n']\n"
     ]
    },
    {
     "data": {
      "text/plain": [
       "'F:/pascal_voc_test/VOCdevkit/VOC2007/Annotations_tm/test1.xml'"
      ]
     },
     "execution_count": 138,
     "metadata": {},
     "output_type": "execute_result"
    }
   ],
   "source": [
    "# # delete_from_tm_xml（）函数单个文件测试\n",
    "\n",
    "# xml_test = 'F:/pascal_voc_test/VOCdevkit/VOC2007/Annotations_tm/test1.xml'\n",
    "# xml_new = 'F:/pascal_voc_test/VOCdevkit/VOC2007/Annotations_tm/test1_new.xml'\n",
    "# count = -1\n",
    "# count_set = []\n",
    "# with open(xml_test,'r') as f1:\n",
    "#     content = f1.readlines()\n",
    "#     for con in content:\n",
    "#         count += 1\n",
    "#         for item in classes:\n",
    "#             if '<name>' + item + '</name>' in con:\n",
    "#                 count_set.append(count-1)# 找到其他类对应的object\n",
    "                \n",
    "# print(count_set)                \n",
    "# with open(xml_new,'w') as f2: # 重写文件，删除所有包含其他类的object\n",
    "#     new_content = []\n",
    "#     l,pos = 12,0\n",
    "#     for start in count_set:\n",
    "#         new_content += content[pos:start]\n",
    "#         pos = start + l\n",
    "#     new_content += content[pos:]\n",
    "#     for line in new_content:\n",
    "#         f2.write(line)\n",
    "              \n",
    "# shutil.move(xml_new, xml_test) \n",
    "                    "
   ]
  },
  {
   "cell_type": "code",
   "execution_count": 51,
   "metadata": {
    "ExecuteTime": {
     "end_time": "2020-10-30T04:13:45.132736Z",
     "start_time": "2020-10-30T04:13:44.998320Z"
    }
   },
   "outputs": [
    {
     "name": "stdout",
     "output_type": "stream",
     "text": [
      "229 86\n"
     ]
    }
   ],
   "source": [
    "# only_tm_set = []\n",
    "# for i in range(num):\n",
    "#     flag = 1 # 0表示还有其他类，1表示只有tvmonitor\n",
    "#     with open(xml_file_set[i],'r') as f:\n",
    "#         lines = f.readlines()\n",
    "#         for item in classes:\n",
    "#             for line in lines:\n",
    "#                 if item in line:\n",
    "#                     flag = 0\n",
    "#                     break\n",
    "#     if flag == 1:\n",
    "#         only_tm_set.append(xml_file_set[i])\n",
    "# print(num,len(only_tm_set))"
   ]
  },
  {
   "cell_type": "code",
   "execution_count": 55,
   "metadata": {
    "ExecuteTime": {
     "end_time": "2020-10-30T04:35:20.350961Z",
     "start_time": "2020-10-30T04:35:20.342997Z"
    }
   },
   "outputs": [
    {
     "data": {
      "text/plain": [
       "'F:/pascal_voc_test/VOCdevkit/VOC2007/JPEGImages_tm/000001.jpg'"
      ]
     },
     "execution_count": 55,
     "metadata": {},
     "output_type": "execute_result"
    }
   ],
   "source": [
    "# source = 'F:/pascal_voc_test/VOCdevkit/VOC2007/JPEGImages/000001.jpg'\n",
    "# target = 'F:/pascal_voc_test/VOCdevkit/VOC2007/JPEGImages_tm/000001.jpg'\n",
    "# shutil.copy(source,target)"
   ]
  },
  {
   "cell_type": "code",
   "execution_count": null,
   "metadata": {},
   "outputs": [],
   "source": []
  }
 ],
 "metadata": {
  "kernelspec": {
   "display_name": "Pytorch for Deeplearning",
   "language": "python",
   "name": "pytorch"
  },
  "language_info": {
   "codemirror_mode": {
    "name": "ipython",
    "version": 3
   },
   "file_extension": ".py",
   "mimetype": "text/x-python",
   "name": "python",
   "nbconvert_exporter": "python",
   "pygments_lexer": "ipython3",
   "version": "3.7.1"
  },
  "toc": {
   "base_numbering": 1,
   "nav_menu": {},
   "number_sections": true,
   "sideBar": true,
   "skip_h1_title": false,
   "title_cell": "Table of Contents",
   "title_sidebar": "Contents",
   "toc_cell": false,
   "toc_position": {},
   "toc_section_display": true,
   "toc_window_display": false
  },
  "varInspector": {
   "cols": {
    "lenName": 16,
    "lenType": 16,
    "lenVar": 40
   },
   "kernels_config": {
    "python": {
     "delete_cmd_postfix": "",
     "delete_cmd_prefix": "del ",
     "library": "var_list.py",
     "varRefreshCmd": "print(var_dic_list())"
    },
    "r": {
     "delete_cmd_postfix": ") ",
     "delete_cmd_prefix": "rm(",
     "library": "var_list.r",
     "varRefreshCmd": "cat(var_dic_list()) "
    }
   },
   "types_to_exclude": [
    "module",
    "function",
    "builtin_function_or_method",
    "instance",
    "_Feature"
   ],
   "window_display": false
  }
 },
 "nbformat": 4,
 "nbformat_minor": 2
}
